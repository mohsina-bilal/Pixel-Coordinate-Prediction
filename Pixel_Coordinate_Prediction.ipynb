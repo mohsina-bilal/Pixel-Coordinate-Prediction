{
  "nbformat": 4,
  "nbformat_minor": 0,
  "metadata": {
    "colab": {
      "provenance": []
    },
    "kernelspec": {
      "name": "python3",
      "display_name": "Python 3"
    },
    "language_info": {
      "name": "python"
    }
  },
  "cells": [
    {
      "cell_type": "markdown",
      "source": [
        "# Problem Statement :\n",
        "Using Deep Learning techniques, predict the coordinates (x,y) of a pixel which has a value of 255 for 1 pixel in a given 50x50 pixel grayscale image and all other pixels are 0. The pixel with a value of 255 is randomly assigned. You may generate a dataset as required for solving the problem. Please explain your rationale behind dataset choices."
      ],
      "metadata": {
        "id": "0Oag0c47zPu3"
      }
    },
    {
      "cell_type": "markdown",
      "source": [
        "Generate Dataset"
      ],
      "metadata": {
        "id": "m88-KYWFzcLK"
      }
    },
    {
      "cell_type": "code",
      "source": [
        "import os\n",
        "import numpy as np\n",
        "from PIL import Image\n",
        "\n",
        "class DataGenerator:\n",
        "    def __init__(self, image_size=50, num_images=10000, output_dir=\"dataset\"):\n",
        "        self.image_size = image_size\n",
        "        self.num_images = num_images\n",
        "        self.output_dir = output_dir\n",
        "\n",
        "    def generate_dataset(self):\n",
        "        images = []\n",
        "        labels = []\n",
        "        for _ in range(self.num_images):\n",
        "            image = np.zeros((self.image_size, self.image_size), dtype=np.uint8)\n",
        "            x, y = np.random.randint(0, self.image_size, size=2)\n",
        "            image[x, y] = 255\n",
        "            images.append(image)\n",
        "            labels.append([x, y])\n",
        "        images = np.array(images).reshape(-1, self.image_size, self.image_size, 1)\n",
        "        labels = np.array(labels)\n",
        "        return images, labels\n",
        "\n",
        "    def save_images(self, images, labels, category):\n",
        "        os.makedirs(f\"{self.output_dir}/{category}/images\", exist_ok=True)\n",
        "        os.makedirs(f\"{self.output_dir}/{category}/labels\", exist_ok=True)\n",
        "\n",
        "        for i, (image, label) in enumerate(zip(images, labels)):\n",
        "            img = Image.fromarray(image.reshape(self.image_size, self.image_size))\n",
        "            img.save(f\"{self.output_dir}/{category}/images/{i}.png\")\n",
        "            with open(f\"{self.output_dir}/{category}/labels/{i}.txt\", \"w\") as f:\n",
        "                f.write(f\"{label[0]} {label[1]}\")\n"
      ],
      "metadata": {
        "id": "sT4ewQ_ZQz54"
      },
      "execution_count": 1,
      "outputs": []
    },
    {
      "cell_type": "markdown",
      "source": [
        "Data Preprocessor"
      ],
      "metadata": {
        "id": "M0k2Aa_bzkcI"
      }
    },
    {
      "cell_type": "code",
      "source": [
        "from sklearn.model_selection import train_test_split\n",
        "\n",
        "class DataPreprocessor:\n",
        "    def __init__(self, test_size=0.2, random_state=42, output_dir=\"dataset\"):\n",
        "        self.test_size = test_size\n",
        "        self.random_state = random_state\n",
        "        self.output_dir = output_dir\n",
        "\n",
        "    def split_data(self, images, labels):\n",
        "        X_train, X_val, y_train, y_val = train_test_split(\n",
        "            images, labels, test_size=self.test_size, random_state=self.random_state)\n",
        "        return X_train, X_val, y_train, y_val\n",
        "\n",
        "    def save_split_data(self, X_train, X_val, y_train, y_val):\n",
        "        data_generator = DataGenerator(output_dir=self.output_dir)\n",
        "        data_generator.save_images(X_train, y_train, \"train\")\n",
        "        data_generator.save_images(X_val, y_val, \"test\")\n"
      ],
      "metadata": {
        "id": "tIESsHwEQ3mp"
      },
      "execution_count": 2,
      "outputs": []
    },
    {
      "cell_type": "markdown",
      "source": [
        "Model Building"
      ],
      "metadata": {
        "id": "kf54cpc5z2zZ"
      }
    },
    {
      "cell_type": "code",
      "source": [
        "import tensorflow as tf\n",
        "from tensorflow.keras.models import Sequential\n",
        "from tensorflow.keras.layers import Conv2D, MaxPooling2D, Flatten, Dense, Dropout\n",
        "\n",
        "class PixelPredictorModel:\n",
        "    def __init__(self, input_shape=(50, 50, 1)):\n",
        "        self.input_shape = input_shape\n",
        "        self.model = self.build_model()\n",
        "\n",
        "    def build_model(self):\n",
        "        model = Sequential([\n",
        "            Conv2D(32, (3, 3), activation='relu', input_shape=self.input_shape),\n",
        "            MaxPooling2D((2, 2)),\n",
        "            Conv2D(64, (3, 3), activation='relu'),\n",
        "            MaxPooling2D((2, 2)),\n",
        "            Conv2D(128, (3, 3), activation='relu'),\n",
        "            Flatten(),\n",
        "            Dense(256, activation='relu'),\n",
        "            Dropout(0.5),\n",
        "            Dense(2)  # Output layer for (x, y) coordinates\n",
        "        ])\n",
        "        model.compile(optimizer='adam', loss='mean_squared_error')\n",
        "        return model\n",
        "\n",
        "    def train(self, X_train, y_train, X_val, y_val, epochs=50, batch_size=32):\n",
        "        history = self.model.fit(X_train, y_train, validation_data=(X_val, y_val), epochs=epochs, batch_size=batch_size)\n",
        "        return history\n",
        "\n",
        "    def predict(self, X):\n",
        "        return self.model.predict(X)\n",
        "\n",
        "    def save_model(self, file_path):\n",
        "        self.model.save(file_path)\n",
        "\n",
        "    def load_model(self, file_path):\n",
        "        self.model = tf.keras.models.load_model(file_path)\n"
      ],
      "metadata": {
        "id": "xSXHslZIQ4pV"
      },
      "execution_count": 3,
      "outputs": []
    },
    {
      "cell_type": "markdown",
      "source": [
        "Train Model"
      ],
      "metadata": {
        "id": "ALTT0smkz6zw"
      }
    },
    {
      "cell_type": "markdown",
      "source": [
        "Evaluate Model"
      ],
      "metadata": {
        "id": "VQS9vL4w0B3N"
      }
    },
    {
      "cell_type": "code",
      "source": [
        "import matplotlib.pyplot as plt\n",
        "\n",
        "class ModelEvaluator:\n",
        "    @staticmethod\n",
        "    def plot_loss(history):\n",
        "        plt.plot(history.history['loss'], label='train_loss')\n",
        "        plt.plot(history.history['val_loss'], label='val_loss')\n",
        "        plt.legend()\n",
        "        plt.show()\n",
        "\n",
        "    @staticmethod\n",
        "    def plot_predictions(X_val, y_val, predictions, num_examples=5):\n",
        "        for i in range(num_examples):\n",
        "            plt.imshow(X_val[i].reshape(50, 50), cmap='gray')\n",
        "            plt.scatter(predictions[i][1], predictions[i][0], color='r', label='Predicted')\n",
        "            plt.scatter(y_val[i][1], y_val[i][0], color='g', label='True')\n",
        "            plt.legend()\n",
        "            plt.show()\n",
        "\n",
        "    @staticmethod\n",
        "    def display_predictions(predictions, y_val, num_examples=5):\n",
        "        for i in range(num_examples):\n",
        "            true_coords = y_val[i]\n",
        "            pred_coords = predictions[i]\n",
        "            print(f'Example {i+1}:')\n",
        "            print(f'True Coordinates: (x={true_coords[0]}, y={true_coords[1]})')\n",
        "            print(f'Predicted Coordinates: (x={int(pred_coords[0])}, y={int(pred_coords[1])})')\n",
        "            print('---')"
      ],
      "metadata": {
        "id": "nvZVUsjDQ_Ea"
      },
      "execution_count": 4,
      "outputs": []
    },
    {
      "cell_type": "markdown",
      "source": [
        "Pipeline Creation\n"
      ],
      "metadata": {
        "id": "SfLjzfl50FcG"
      }
    },
    {
      "cell_type": "code",
      "source": [
        "class PixelPredictionPipeline:\n",
        "    def __init__(self, num_images=10000, image_size=50, test_size=0.2, random_state=42, epochs=50, batch_size=32, output_dir=\"dataset\"):\n",
        "        self.num_images = num_images\n",
        "        self.image_size = image_size\n",
        "        self.test_size = test_size\n",
        "        self.random_state = random_state\n",
        "        self.epochs = epochs\n",
        "        self.batch_size = batch_size\n",
        "        self.output_dir = output_dir\n",
        "\n",
        "        self.data_generator = DataGenerator(image_size=image_size, num_images=num_images, output_dir=output_dir)\n",
        "        self.data_preprocessor = DataPreprocessor(test_size=test_size, random_state=random_state, output_dir=output_dir)\n",
        "        self.model = PixelPredictorModel(input_shape=(image_size, image_size, 1))\n",
        "        self.evaluator = ModelEvaluator()\n",
        "\n",
        "    def run(self):\n",
        "        # Step 1: Generate dataset\n",
        "        images, labels = self.data_generator.generate_dataset()\n",
        "\n",
        "        # Step 2: Split dataset\n",
        "        X_train, X_val, y_train, y_val = self.data_preprocessor.split_data(images, labels)\n",
        "\n",
        "        # Step 3: Save split data\n",
        "        self.data_preprocessor.save_split_data(X_train, X_val, y_train, y_val)\n",
        "\n",
        "        # Step 4: Train model\n",
        "        history = self.model.train(X_train, y_train, X_val, y_val, epochs=self.epochs, batch_size=self.batch_size)\n",
        "\n",
        "        # Step 5: Evaluate model\n",
        "        self.evaluator.plot_loss(history)\n",
        "\n",
        "        # Step 6: Make predictions\n",
        "        predictions = self.model.predict(X_val)\n",
        "\n",
        "        # Step 7: Visualize predictions\n",
        "        self.evaluator.plot_predictions(X_val, y_train, predictions)\n",
        "\n",
        "        # Step 8: Display predictions\n",
        "        self.evaluator.display_predictions(predictions, y_val)\n",
        "\n",
        "# Run the pipeline\n",
        "pipeline = PixelPredictionPipeline()\n",
        "pipeline.run()\n"
      ],
      "metadata": {
        "colab": {
          "base_uri": "https://localhost:8080/",
          "height": 1000
        },
        "id": "sunuv1UPz7Ka",
        "outputId": "365e336e-939f-4372-cd9b-8f10275dedcf"
      },
      "execution_count": 5,
      "outputs": [
        {
          "output_type": "stream",
          "name": "stdout",
          "text": [
            "Epoch 1/50\n",
            "250/250 [==============================] - 41s 160ms/step - loss: 46.2123 - val_loss: 11.2712\n",
            "Epoch 2/50\n",
            "250/250 [==============================] - 41s 163ms/step - loss: 16.5421 - val_loss: 4.4827\n",
            "Epoch 3/50\n",
            "250/250 [==============================] - 38s 152ms/step - loss: 13.6639 - val_loss: 3.3688\n",
            "Epoch 4/50\n",
            "250/250 [==============================] - 41s 163ms/step - loss: 12.0131 - val_loss: 1.7054\n",
            "Epoch 5/50\n",
            "250/250 [==============================] - 41s 165ms/step - loss: 11.6034 - val_loss: 3.0207\n",
            "Epoch 6/50\n",
            "250/250 [==============================] - 41s 163ms/step - loss: 11.5968 - val_loss: 2.8811\n",
            "Epoch 7/50\n",
            "250/250 [==============================] - 40s 159ms/step - loss: 11.0785 - val_loss: 4.7158\n",
            "Epoch 8/50\n",
            "250/250 [==============================] - 38s 151ms/step - loss: 10.1671 - val_loss: 1.1575\n",
            "Epoch 9/50\n",
            "250/250 [==============================] - 39s 155ms/step - loss: 10.5578 - val_loss: 1.9664\n",
            "Epoch 10/50\n",
            "250/250 [==============================] - 40s 160ms/step - loss: 10.1440 - val_loss: 1.0684\n",
            "Epoch 11/50\n",
            "250/250 [==============================] - 46s 185ms/step - loss: 9.8694 - val_loss: 1.2367\n",
            "Epoch 12/50\n",
            "250/250 [==============================] - 38s 152ms/step - loss: 10.1572 - val_loss: 1.4710\n",
            "Epoch 13/50\n",
            "250/250 [==============================] - 39s 155ms/step - loss: 10.1058 - val_loss: 1.3650\n",
            "Epoch 14/50\n",
            "250/250 [==============================] - 42s 169ms/step - loss: 9.7213 - val_loss: 1.0951\n",
            "Epoch 15/50\n",
            "250/250 [==============================] - 40s 162ms/step - loss: 9.8885 - val_loss: 1.5186\n",
            "Epoch 16/50\n",
            "250/250 [==============================] - 41s 163ms/step - loss: 9.3558 - val_loss: 1.6482\n",
            "Epoch 17/50\n",
            "250/250 [==============================] - 37s 149ms/step - loss: 9.6825 - val_loss: 1.5196\n",
            "Epoch 18/50\n",
            "250/250 [==============================] - 39s 157ms/step - loss: 9.4466 - val_loss: 1.9459\n",
            "Epoch 19/50\n",
            "250/250 [==============================] - 38s 153ms/step - loss: 9.6100 - val_loss: 1.5097\n",
            "Epoch 20/50\n",
            "250/250 [==============================] - 38s 150ms/step - loss: 9.1623 - val_loss: 1.0377\n",
            "Epoch 21/50\n",
            "250/250 [==============================] - 39s 156ms/step - loss: 9.1653 - val_loss: 1.2066\n",
            "Epoch 22/50\n",
            "250/250 [==============================] - 38s 154ms/step - loss: 8.9228 - val_loss: 1.4026\n",
            "Epoch 23/50\n",
            "250/250 [==============================] - 37s 147ms/step - loss: 9.0294 - val_loss: 0.9332\n",
            "Epoch 24/50\n",
            "250/250 [==============================] - 40s 159ms/step - loss: 9.1935 - val_loss: 1.0476\n",
            "Epoch 25/50\n",
            "250/250 [==============================] - 40s 159ms/step - loss: 8.9049 - val_loss: 1.2813\n",
            "Epoch 26/50\n",
            "250/250 [==============================] - 37s 147ms/step - loss: 8.8798 - val_loss: 1.4424\n",
            "Epoch 27/50\n",
            "250/250 [==============================] - 39s 155ms/step - loss: 8.9623 - val_loss: 0.8786\n",
            "Epoch 28/50\n",
            "250/250 [==============================] - 39s 157ms/step - loss: 8.7829 - val_loss: 0.9246\n",
            "Epoch 29/50\n",
            "250/250 [==============================] - 43s 171ms/step - loss: 8.8866 - val_loss: 0.8324\n",
            "Epoch 30/50\n",
            "250/250 [==============================] - 37s 149ms/step - loss: 8.5324 - val_loss: 1.0491\n",
            "Epoch 31/50\n",
            "250/250 [==============================] - 39s 157ms/step - loss: 8.9203 - val_loss: 0.7137\n",
            "Epoch 32/50\n",
            "250/250 [==============================] - 39s 157ms/step - loss: 8.4693 - val_loss: 0.8878\n",
            "Epoch 33/50\n",
            "250/250 [==============================] - 37s 147ms/step - loss: 8.4437 - val_loss: 0.7183\n",
            "Epoch 34/50\n",
            "250/250 [==============================] - 39s 156ms/step - loss: 8.5700 - val_loss: 0.6095\n",
            "Epoch 35/50\n",
            "250/250 [==============================] - 39s 155ms/step - loss: 8.5162 - val_loss: 0.6805\n",
            "Epoch 36/50\n",
            "250/250 [==============================] - 37s 148ms/step - loss: 8.4362 - val_loss: 0.5908\n",
            "Epoch 37/50\n",
            "250/250 [==============================] - 38s 153ms/step - loss: 8.5919 - val_loss: 0.6439\n",
            "Epoch 38/50\n",
            "250/250 [==============================] - 39s 155ms/step - loss: 8.2630 - val_loss: 1.2625\n",
            "Epoch 39/50\n",
            "250/250 [==============================] - 37s 148ms/step - loss: 8.2449 - val_loss: 1.2688\n",
            "Epoch 40/50\n",
            "250/250 [==============================] - 39s 157ms/step - loss: 8.1726 - val_loss: 0.6537\n",
            "Epoch 41/50\n",
            "250/250 [==============================] - 40s 160ms/step - loss: 8.3674 - val_loss: 0.8113\n",
            "Epoch 42/50\n",
            "250/250 [==============================] - 38s 150ms/step - loss: 8.1774 - val_loss: 1.0479\n",
            "Epoch 43/50\n",
            "250/250 [==============================] - 38s 154ms/step - loss: 8.3987 - val_loss: 0.8041\n",
            "Epoch 44/50\n",
            "250/250 [==============================] - 38s 154ms/step - loss: 8.1417 - val_loss: 0.9238\n",
            "Epoch 45/50\n",
            "250/250 [==============================] - 37s 150ms/step - loss: 8.1804 - val_loss: 1.0698\n",
            "Epoch 46/50\n",
            "250/250 [==============================] - 39s 157ms/step - loss: 8.1166 - val_loss: 1.2933\n",
            "Epoch 47/50\n",
            "250/250 [==============================] - 40s 159ms/step - loss: 8.1174 - val_loss: 0.8693\n",
            "Epoch 48/50\n",
            "250/250 [==============================] - 37s 148ms/step - loss: 7.9846 - val_loss: 0.5369\n",
            "Epoch 49/50\n",
            "250/250 [==============================] - 39s 155ms/step - loss: 8.0052 - val_loss: 0.8979\n",
            "Epoch 50/50\n",
            "250/250 [==============================] - 39s 155ms/step - loss: 8.0890 - val_loss: 1.2751\n"
          ]
        },
        {
          "output_type": "display_data",
          "data": {
            "text/plain": [
              "<Figure size 640x480 with 1 Axes>"
            ],
            "image/png": "[encoded data removed]"
          },
          "metadata": {}
        },
        {
          "output_type": "stream",
          "name": "stdout",
          "text": [
            "63/63 [==============================] - 2s 34ms/step\n"
          ]
        },
        {
          "output_type": "display_data",
          "data": {
            "text/plain": [
              "<Figure size 640x480 with 1 Axes>"
            ],
            "image/png": "[encoded data removed]"
          },
          "metadata": {}
        },
        {
          "output_type": "display_data",
          "data": {
            "text/plain": [
              "<Figure size 640x480 with 1 Axes>"
            ],
            "image/png": "[encoded data removed]"
          },
          "metadata": {}
        },
        {
          "output_type": "display_data",
          "data": {
            "text/plain": [
              "<Figure size 640x480 with 1 Axes>"
            ],
            "image/png": "[encoded data removed]"
          },
          "metadata": {}
        },
        {
          "output_type": "display_data",
          "data": {
            "text/plain": [
              "<Figure size 640x480 with 1 Axes>"
            ],
            "image/png": "[encoded data removed]"
          },
          "metadata": {}
        },
        {
          "output_type": "display_data",
          "data": {
            "text/plain": [
              "<Figure size 640x480 with 1 Axes>"
            ],
            "image/png": "[encoded data removed]"
          },
          "metadata": {}
        },
        {
          "output_type": "stream",
          "name": "stdout",
          "text": [
            "Example 1:\n",
            "True Coordinates: (x=33, y=24)\n",
            "Predicted Coordinates: (x=32, y=22)\n",
            "---\n",
            "Example 2:\n",
            "True Coordinates: (x=31, y=7)\n",
            "Predicted Coordinates: (x=30, y=6)\n",
            "---\n",
            "Example 3:\n",
            "True Coordinates: (x=10, y=32)\n",
            "Predicted Coordinates: (x=11, y=30)\n",
            "---\n",
            "Example 4:\n",
            "True Coordinates: (x=16, y=1)\n",
            "Predicted Coordinates: (x=14, y=1)\n",
            "---\n",
            "Example 5:\n",
            "True Coordinates: (x=20, y=9)\n",
            "Predicted Coordinates: (x=19, y=9)\n",
            "---\n"
          ]
        }
      ]
    },
    {
      "cell_type": "code",
      "source": [
        "import shutil\n",
        "\n",
        "# Compress the directory into a ZIP file\n",
        "shutil.make_archive('/content/dataset', 'zip', '/content/dataset')\n"
      ],
      "metadata": {
        "colab": {
          "base_uri": "https://localhost:8080/",
          "height": 36
        },
        "id": "ZvOhB74zqoRu",
        "outputId": "9b4a707d-fa72-46e6-abf3-2ea7ad7202a3"
      },
      "execution_count": 6,
      "outputs": [
        {
          "output_type": "execute_result",
          "data": {
            "text/plain": [
              "'/content/dataset.zip'"
            ],
            "application/vnd.google.colaboratory.intrinsic+json": {
              "type": "string"
            }
          },
          "metadata": {},
          "execution_count": 6
        }
      ]
    },
    {
      "cell_type": "code",
      "source": [
        "from google.colab import files\n",
        "\n",
        "# Download the ZIP file\n",
        "files.download('/content/dataset.zip')\n"
      ],
      "metadata": {
        "colab": {
          "base_uri": "https://localhost:8080/",
          "height": 17
        },
        "id": "gDSrVMRHFKxg",
        "outputId": "caa5a87e-1a22-4a5c-e064-14b9853e16c0"
      },
      "execution_count": 7,
      "outputs": [
        {
          "output_type": "display_data",
          "data": {
            "text/plain": [
              "<IPython.core.display.Javascript object>"
            ],
            "application/javascript": [
              "\n",
              "    async function download(id, filename, size) {\n",
              "      if (!google.colab.kernel.accessAllowed) {\n",
              "        return;\n",
              "      }\n",
              "      const div = document.createElement('div');\n",
              "      const label = document.createElement('label');\n",
              "      label.textContent = `Downloading \"${filename}\": `;\n",
              "      div.appendChild(label);\n",
              "      const progress = document.createElement('progress');\n",
              "      progress.max = size;\n",
              "      div.appendChild(progress);\n",
              "      document.body.appendChild(div);\n",
              "\n",
              "      const buffers = [];\n",
              "      let downloaded = 0;\n",
              "\n",
              "      const channel = await google.colab.kernel.comms.open(id);\n",
              "      // Send a message to notify the kernel that we're ready.\n",
              "      channel.send({})\n",
              "\n",
              "      for await (const message of channel.messages) {\n",
              "        // Send a message to notify the kernel that we're ready.\n",
              "        channel.send({})\n",
              "        if (message.buffers) {\n",
              "          for (const buffer of message.buffers) {\n",
              "            buffers.push(buffer);\n",
              "            downloaded += buffer.byteLength;\n",
              "            progress.value = downloaded;\n",
              "          }\n",
              "        }\n",
              "      }\n",
              "      const blob = new Blob(buffers, {type: 'application/binary'});\n",
              "      const a = document.createElement('a');\n",
              "      a.href = window.URL.createObjectURL(blob);\n",
              "      a.download = filename;\n",
              "      div.appendChild(a);\n",
              "      a.click();\n",
              "      div.remove();\n",
              "    }\n",
              "  "
            ]
          },
          "metadata": {}
        },
        {
          "output_type": "display_data",
          "data": {
            "text/plain": [
              "<IPython.core.display.Javascript object>"
            ],
            "application/javascript": [
              "download(\"download_d776ac91-440b-49f0-abcd-370a5aded7a3\", \"dataset.zip\", 3226113)"
            ]
          },
          "metadata": {}
        }
      ]
    }
  ]
}